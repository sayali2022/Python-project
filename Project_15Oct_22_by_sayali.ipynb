{
  "cells": [
    {
      "cell_type": "code",
      "execution_count": null,
      "metadata": {
        "colab": {
          "background_save": true,
          "base_uri": "https://localhost:8080/",
          "height": 38
        },
        "id": "PBSVzJix7YZR",
        "outputId": "dbf74fd9-e06e-4c3d-a9a2-5f9ae6e85955"
      },
      "outputs": [
        {
          "data": {
            "text/html": [
              "\n",
              "     <input type=\"file\" id=\"files-1840bba6-8160-4755-9288-3084fa256d15\" name=\"files[]\" multiple disabled\n",
              "        style=\"border:none\" />\n",
              "     <output id=\"result-1840bba6-8160-4755-9288-3084fa256d15\">\n",
              "      Upload widget is only available when the cell has been executed in the\n",
              "      current browser session. Please rerun this cell to enable.\n",
              "      </output>\n",
              "      <script>// Copyright 2017 Google LLC\n",
              "//\n",
              "// Licensed under the Apache License, Version 2.0 (the \"License\");\n",
              "// you may not use this file except in compliance with the License.\n",
              "// You may obtain a copy of the License at\n",
              "//\n",
              "//      http://www.apache.org/licenses/LICENSE-2.0\n",
              "//\n",
              "// Unless required by applicable law or agreed to in writing, software\n",
              "// distributed under the License is distributed on an \"AS IS\" BASIS,\n",
              "// WITHOUT WARRANTIES OR CONDITIONS OF ANY KIND, either express or implied.\n",
              "// See the License for the specific language governing permissions and\n",
              "// limitations under the License.\n",
              "\n",
              "/**\n",
              " * @fileoverview Helpers for google.colab Python module.\n",
              " */\n",
              "(function(scope) {\n",
              "function span(text, styleAttributes = {}) {\n",
              "  const element = document.createElement('span');\n",
              "  element.textContent = text;\n",
              "  for (const key of Object.keys(styleAttributes)) {\n",
              "    element.style[key] = styleAttributes[key];\n",
              "  }\n",
              "  return element;\n",
              "}\n",
              "\n",
              "// Max number of bytes which will be uploaded at a time.\n",
              "const MAX_PAYLOAD_SIZE = 100 * 1024;\n",
              "\n",
              "function _uploadFiles(inputId, outputId) {\n",
              "  const steps = uploadFilesStep(inputId, outputId);\n",
              "  const outputElement = document.getElementById(outputId);\n",
              "  // Cache steps on the outputElement to make it available for the next call\n",
              "  // to uploadFilesContinue from Python.\n",
              "  outputElement.steps = steps;\n",
              "\n",
              "  return _uploadFilesContinue(outputId);\n",
              "}\n",
              "\n",
              "// This is roughly an async generator (not supported in the browser yet),\n",
              "// where there are multiple asynchronous steps and the Python side is going\n",
              "// to poll for completion of each step.\n",
              "// This uses a Promise to block the python side on completion of each step,\n",
              "// then passes the result of the previous step as the input to the next step.\n",
              "function _uploadFilesContinue(outputId) {\n",
              "  const outputElement = document.getElementById(outputId);\n",
              "  const steps = outputElement.steps;\n",
              "\n",
              "  const next = steps.next(outputElement.lastPromiseValue);\n",
              "  return Promise.resolve(next.value.promise).then((value) => {\n",
              "    // Cache the last promise value to make it available to the next\n",
              "    // step of the generator.\n",
              "    outputElement.lastPromiseValue = value;\n",
              "    return next.value.response;\n",
              "  });\n",
              "}\n",
              "\n",
              "/**\n",
              " * Generator function which is called between each async step of the upload\n",
              " * process.\n",
              " * @param {string} inputId Element ID of the input file picker element.\n",
              " * @param {string} outputId Element ID of the output display.\n",
              " * @return {!Iterable<!Object>} Iterable of next steps.\n",
              " */\n",
              "function* uploadFilesStep(inputId, outputId) {\n",
              "  const inputElement = document.getElementById(inputId);\n",
              "  inputElement.disabled = false;\n",
              "\n",
              "  const outputElement = document.getElementById(outputId);\n",
              "  outputElement.innerHTML = '';\n",
              "\n",
              "  const pickedPromise = new Promise((resolve) => {\n",
              "    inputElement.addEventListener('change', (e) => {\n",
              "      resolve(e.target.files);\n",
              "    });\n",
              "  });\n",
              "\n",
              "  const cancel = document.createElement('button');\n",
              "  inputElement.parentElement.appendChild(cancel);\n",
              "  cancel.textContent = 'Cancel upload';\n",
              "  const cancelPromise = new Promise((resolve) => {\n",
              "    cancel.onclick = () => {\n",
              "      resolve(null);\n",
              "    };\n",
              "  });\n",
              "\n",
              "  // Wait for the user to pick the files.\n",
              "  const files = yield {\n",
              "    promise: Promise.race([pickedPromise, cancelPromise]),\n",
              "    response: {\n",
              "      action: 'starting',\n",
              "    }\n",
              "  };\n",
              "\n",
              "  cancel.remove();\n",
              "\n",
              "  // Disable the input element since further picks are not allowed.\n",
              "  inputElement.disabled = true;\n",
              "\n",
              "  if (!files) {\n",
              "    return {\n",
              "      response: {\n",
              "        action: 'complete',\n",
              "      }\n",
              "    };\n",
              "  }\n",
              "\n",
              "  for (const file of files) {\n",
              "    const li = document.createElement('li');\n",
              "    li.append(span(file.name, {fontWeight: 'bold'}));\n",
              "    li.append(span(\n",
              "        `(${file.type || 'n/a'}) - ${file.size} bytes, ` +\n",
              "        `last modified: ${\n",
              "            file.lastModifiedDate ? file.lastModifiedDate.toLocaleDateString() :\n",
              "                                    'n/a'} - `));\n",
              "    const percent = span('0% done');\n",
              "    li.appendChild(percent);\n",
              "\n",
              "    outputElement.appendChild(li);\n",
              "\n",
              "    const fileDataPromise = new Promise((resolve) => {\n",
              "      const reader = new FileReader();\n",
              "      reader.onload = (e) => {\n",
              "        resolve(e.target.result);\n",
              "      };\n",
              "      reader.readAsArrayBuffer(file);\n",
              "    });\n",
              "    // Wait for the data to be ready.\n",
              "    let fileData = yield {\n",
              "      promise: fileDataPromise,\n",
              "      response: {\n",
              "        action: 'continue',\n",
              "      }\n",
              "    };\n",
              "\n",
              "    // Use a chunked sending to avoid message size limits. See b/62115660.\n",
              "    let position = 0;\n",
              "    do {\n",
              "      const length = Math.min(fileData.byteLength - position, MAX_PAYLOAD_SIZE);\n",
              "      const chunk = new Uint8Array(fileData, position, length);\n",
              "      position += length;\n",
              "\n",
              "      const base64 = btoa(String.fromCharCode.apply(null, chunk));\n",
              "      yield {\n",
              "        response: {\n",
              "          action: 'append',\n",
              "          file: file.name,\n",
              "          data: base64,\n",
              "        },\n",
              "      };\n",
              "\n",
              "      let percentDone = fileData.byteLength === 0 ?\n",
              "          100 :\n",
              "          Math.round((position / fileData.byteLength) * 100);\n",
              "      percent.textContent = `${percentDone}% done`;\n",
              "\n",
              "    } while (position < fileData.byteLength);\n",
              "  }\n",
              "\n",
              "  // All done.\n",
              "  yield {\n",
              "    response: {\n",
              "      action: 'complete',\n",
              "    }\n",
              "  };\n",
              "}\n",
              "\n",
              "scope.google = scope.google || {};\n",
              "scope.google.colab = scope.google.colab || {};\n",
              "scope.google.colab._files = {\n",
              "  _uploadFiles,\n",
              "  _uploadFilesContinue,\n",
              "};\n",
              "})(self);\n",
              "</script> "
            ],
            "text/plain": [
              "<IPython.core.display.HTML object>"
            ]
          },
          "metadata": {},
          "output_type": "display_data"
        }
      ],
      "source": [
        "from google.colab import files # Load datafiles in colab session\n",
        "data = files.upload()"
      ]
    },
    {
      "cell_type": "code",
      "execution_count": null,
      "metadata": {
        "id": "328fBeRqCEq_"
      },
      "outputs": [],
      "source": [
        "ls"
      ]
    },
    {
      "cell_type": "code",
      "execution_count": null,
      "metadata": {
        "id": "7SytjdN58cZL"
      },
      "outputs": [],
      "source": [
        "import pandas as pd"
      ]
    },
    {
      "cell_type": "code",
      "execution_count": null,
      "metadata": {
        "id": "7htX1Edi_coq"
      },
      "outputs": [],
      "source": [
        "# Define data files schema based on information mentioned in soruce schema sql file\n",
        "customers_list = ['custno','firstname','lastname','gender','age','profession','contactNo',\n",
        "'emailId','city','state','isActive','createdDate','UpdatedDate']\n",
        "\n",
        "products_list = ['productno','productName','Description','isActive','createdDate','UpdatedDate']\n",
        "\n",
        "transactions_list = ['txnno','txndate','custno','amount','productno','spendby']"
      ]
    },
    {
      "cell_type": "code",
      "execution_count": null,
      "metadata": {
        "id": "CxGYRFmp5Uj1"
      },
      "outputs": [],
      "source": []
    },
    {
      "cell_type": "code",
      "execution_count": null,
      "metadata": {
        "id": "A98DOv_37m8d"
      },
      "outputs": [],
      "source": [
        "# Load csv data files in data frames , also map schema on data with the help of schema lists \n",
        "df_csv_customers = pd.read_csv('customers.csv',names=customers_list)\n",
        "df_csv_products = pd.read_csv('products.csv',names=products_list)\n",
        "df_csv_transactions = pd.read_csv('transactions.csv',names=transactions_list)"
      ]
    },
    {
      "cell_type": "code",
      "execution_count": null,
      "metadata": {
        "id": "r4OR5vSA8zQN"
      },
      "outputs": [],
      "source": [
        "df_csv_customers.info()"
      ]
    },
    {
      "cell_type": "code",
      "execution_count": null,
      "metadata": {
        "id": "qxJcHXNN80tf"
      },
      "outputs": [],
      "source": [
        "df_csv_customers.head()"
      ]
    },
    {
      "cell_type": "code",
      "execution_count": null,
      "metadata": {
        "id": "mnwsv1X49ObG"
      },
      "outputs": [],
      "source": [
        "df_csv_products.info()"
      ]
    },
    {
      "cell_type": "code",
      "execution_count": null,
      "metadata": {
        "id": "HfkOvMlo9avw"
      },
      "outputs": [],
      "source": [
        "df_csv_products.head()"
      ]
    },
    {
      "cell_type": "code",
      "execution_count": null,
      "metadata": {
        "id": "xT5AOkVK9cpo"
      },
      "outputs": [],
      "source": [
        "df_csv_transactions.info()"
      ]
    },
    {
      "cell_type": "code",
      "execution_count": null,
      "metadata": {
        "id": "zfQ6eRBr9gj2"
      },
      "outputs": [],
      "source": [
        "df_csv_transactions.head"
      ]
    },
    {
      "cell_type": "code",
      "execution_count": null,
      "metadata": {
        "id": "59HialmUEHNL"
      },
      "outputs": [],
      "source": [
        "# uescase2: display  Display only those customers from CSV_s1, who purchased more than 3 products\n",
        "\n",
        "\n",
        "df=df_csv_transactions.groupby('custno').count()\n",
        "df[(df['productno'])>3]"
      ]
    },
    {
      "cell_type": "code",
      "execution_count": null,
      "metadata": {
        "id": "y4cIIeZV-k0r"
      },
      "outputs": [],
      "source": [
        "#use case 3:Display top 5 most demanded products in csv_s1\n",
        "df3=df_csv_transactions.groupby('productno').count().max()\n",
        "df3"
      ]
    },
    {
      "cell_type": "code",
      "execution_count": null,
      "metadata": {
        "id": "snnoMJimICKv"
      },
      "outputs": [],
      "source": [
        "#usecase 4:  Display top 5 transactions amount from CSV_s1\n",
        "\n",
        "df4=(df_csv_transactions['amount'].head(5))\n",
        "df4"
      ]
    },
    {
      "cell_type": "code",
      "execution_count": null,
      "metadata": {
        "id": "HkuGqZBDEsCg"
      },
      "outputs": [],
      "source": [
        "#usecase 5:Display distint profession from csv_s1\n",
        "\n",
        "print(df_csv_customers['profession'].unique())\n"
      ]
    },
    {
      "cell_type": "code",
      "execution_count": null,
      "metadata": {
        "id": "_3FzsMXpD5lo"
      },
      "outputs": [],
      "source": [
        "#usecase 6: find max age of Customer\n",
        "\n",
        "print(df_csv_customers['age'].max())"
      ]
    },
    {
      "cell_type": "code",
      "execution_count": null,
      "metadata": {
        "id": "6sTS8HZ6yN3y"
      },
      "outputs": [],
      "source": [
        "# Usecase-7 Display custno, gender, age, profession, contactno, productno, productName,\n",
        "# txndate, spendby, amount from CSV_s1 for custno = 923\n",
        "df7=pd.merge('customers')"
      ]
    },
    {
      "cell_type": "code",
      "execution_count": null,
      "metadata": {
        "id": "CncUngL_0Tf7"
      },
      "outputs": [],
      "source": [
        "#'Usecase-8 Load all three PSV (pipe separated values) dataset in Pandas Data frames and\n",
        "#display first 5 records\n"
      ]
    },
    {
      "cell_type": "code",
      "execution_count": null,
      "metadata": {
        "id": "L_NPZVio1Gis"
      },
      "outputs": [],
      "source": [
        "customers_list = ['custno','firstname','lastname','gender','age','profession','contactNo',\n",
        "'emailId','city','state','isActive','createdDate','UpdatedDate']\n",
        "\n",
        "products_list = ['productno','productName','Description','isActive','createdDate','UpdatedDate']\n",
        "\n",
        "transactions_list = ['txnno','txndate','custno','amount','productno','spendby']"
      ]
    },
    {
      "cell_type": "code",
      "execution_count": null,
      "metadata": {
        "id": "KNoPgTay1OHG"
      },
      "outputs": [],
      "source": [
        "df_csv_customers = pd.read_csv('customers.txt',names=customers_list)\n",
        "df_csv_products = pd.read_csv('products.txt',names=products_list)\n",
        "df_csv_transactions = pd.read_csv('transactions.txt',names=transactions_list)\n",
        "df_csv_customers.info()\n",
        "\n",
        "df_csv_customers.head()\n"
      ]
    },
    {
      "cell_type": "code",
      "execution_count": null,
      "metadata": {
        "id": "Sy1aF5Au5WL4"
      },
      "outputs": [],
      "source": [
        "#Usecase-9 Load all three JSON datasets in Pandas Data frames and display first 5 records.\n",
        "df_customers_JSON=pd.read_json('customers.json',lines=True)\n",
        "df_json_products=pd.read_json('products.json',lines=True)\n",
        "df_json_trasactions=pd.read_json('transactions.json' , lines=True)\n",
        "df_customers_JSON.head()\n"
      ]
    },
    {
      "cell_type": "code",
      "execution_count": null,
      "metadata": {
        "id": "SpEniBiKM3R0"
      },
      "outputs": [],
      "source": [
        "#Usecase-10 Load all three XML datasets in Pandas Data frames and display first 5 records.\n",
        "df_xml_customers=pd.read_xml('customers.xml',names=customers_list)\n",
        "df_xml_products=pd.read_xml('products.xml',names=products_list)\n",
        "df_xml_transactions=pd.read_xml('transactions.xml',names=transactions_list)\n",
        "df-df_xml_customers.head()"
      ]
    }
  ],
  "metadata": {
    "colab": {
      "provenance": []
    },
    "kernelspec": {
      "display_name": "Python 3",
      "name": "python3"
    },
    "language_info": {
      "name": "python"
    }
  },
  "nbformat": 4,
  "nbformat_minor": 0
}